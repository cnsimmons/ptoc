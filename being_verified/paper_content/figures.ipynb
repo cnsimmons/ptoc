{
 "cells": [
  {
   "cell_type": "code",
   "execution_count": 11,
   "metadata": {},
   "outputs": [
    {
     "ename": "NameError",
     "evalue": "name 'combined_summary' is not defined",
     "output_type": "error",
     "traceback": [
      "\u001b[0;31m---------------------------------------------------------------------------\u001b[0m",
      "\u001b[0;31mNameError\u001b[0m                                 Traceback (most recent call last)",
      "Cell \u001b[0;32mIn[11], line 29\u001b[0m\n\u001b[1;32m     24\u001b[0m exp2_summary[\u001b[38;5;124m'\u001b[39m\u001b[38;5;124mexperiment\u001b[39m\u001b[38;5;124m'\u001b[39m] \u001b[38;5;241m=\u001b[39m \u001b[38;5;124m'\u001b[39m\u001b[38;5;124mTool Processing\u001b[39m\u001b[38;5;124m'\u001b[39m\n\u001b[1;32m     26\u001b[0m \u001b[38;5;66;03m# Combine datasets\u001b[39;00m\n\u001b[1;32m     27\u001b[0m \u001b[38;5;66;03m# Create Region_order categorical variable for proper ordering\u001b[39;00m\n\u001b[1;32m     28\u001b[0m combined_summary[\u001b[38;5;124m'\u001b[39m\u001b[38;5;124mRegion_order\u001b[39m\u001b[38;5;124m'\u001b[39m] \u001b[38;5;241m=\u001b[39m pd\u001b[38;5;241m.\u001b[39mCategorical(\n\u001b[0;32m---> 29\u001b[0m     \u001b[43mcombined_summary\u001b[49m[\u001b[38;5;124m'\u001b[39m\u001b[38;5;124mroi\u001b[39m\u001b[38;5;124m'\u001b[39m],\n\u001b[1;32m     30\u001b[0m     categories\u001b[38;5;241m=\u001b[39m[\u001b[38;5;124m'\u001b[39m\u001b[38;5;124mLO\u001b[39m\u001b[38;5;124m'\u001b[39m, \u001b[38;5;124m'\u001b[39m\u001b[38;5;124mPFS\u001b[39m\u001b[38;5;124m'\u001b[39m, \u001b[38;5;124m'\u001b[39m\u001b[38;5;124maIPS\u001b[39m\u001b[38;5;124m'\u001b[39m, \u001b[38;5;124m'\u001b[39m\u001b[38;5;124mpIPS\u001b[39m\u001b[38;5;124m'\u001b[39m],\n\u001b[1;32m     31\u001b[0m     ordered\u001b[38;5;241m=\u001b[39m\u001b[38;5;28;01mTrue\u001b[39;00m\n\u001b[1;32m     32\u001b[0m )\n\u001b[1;32m     34\u001b[0m \u001b[38;5;66;03m# Modify plot code\u001b[39;00m\n\u001b[1;32m     35\u001b[0m plot \u001b[38;5;241m=\u001b[39m (ggplot(combined_summary, \n\u001b[1;32m     36\u001b[0m                aes(x\u001b[38;5;241m=\u001b[39m\u001b[38;5;124m'\u001b[39m\u001b[38;5;124mRegion_order\u001b[39m\u001b[38;5;124m'\u001b[39m, y\u001b[38;5;241m=\u001b[39m\u001b[38;5;124m'\u001b[39m\u001b[38;5;124mmean\u001b[39m\u001b[38;5;124m'\u001b[39m, color\u001b[38;5;241m=\u001b[39m\u001b[38;5;124m'\u001b[39m\u001b[38;5;124mcond\u001b[39m\u001b[38;5;124m'\u001b[39m, shape\u001b[38;5;241m=\u001b[39m\u001b[38;5;124m'\u001b[39m\u001b[38;5;124mhemi\u001b[39m\u001b[38;5;124m'\u001b[39m))\n\u001b[1;32m     37\u001b[0m         \u001b[38;5;241m+\u001b[39m geom_linerange(aes(ymin\u001b[38;5;241m=\u001b[39m\u001b[38;5;124m'\u001b[39m\u001b[38;5;124mmean-std\u001b[39m\u001b[38;5;124m'\u001b[39m, ymax\u001b[38;5;241m=\u001b[39m\u001b[38;5;124m'\u001b[39m\u001b[38;5;124mmean+std\u001b[39m\u001b[38;5;124m'\u001b[39m), size\u001b[38;5;241m=\u001b[39m\u001b[38;5;241m1\u001b[39m)\n\u001b[0;32m   (...)\u001b[0m\n\u001b[1;32m     44\u001b[0m                 axis_text_x\u001b[38;5;241m=\u001b[39melement_text(angle\u001b[38;5;241m=\u001b[39m\u001b[38;5;241m30\u001b[39m, hjust\u001b[38;5;241m=\u001b[39m\u001b[38;5;241m1\u001b[39m))\n\u001b[1;32m     45\u001b[0m         \u001b[38;5;241m+\u001b[39m labs(x\u001b[38;5;241m=\u001b[39m\u001b[38;5;124m'\u001b[39m\u001b[38;5;124mRegion\u001b[39m\u001b[38;5;124m'\u001b[39m, y\u001b[38;5;241m=\u001b[39m\u001b[38;5;124m'\u001b[39m\u001b[38;5;124mActivation (Beta)\u001b[39m\u001b[38;5;124m'\u001b[39m))\n",
      "\u001b[0;31mNameError\u001b[0m: name 'combined_summary' is not defined"
     ]
    }
   ],
   "source": [
    "# Combined ROI - Experiment 1 and 2\n",
    "import pandas as pd\n",
    "import numpy as np\n",
    "from plotnine import *\n",
    "\n",
    "# Load and process experiment 1 data\n",
    "exp1_data = pd.read_csv(\"results/selectivity/selectivity_summary.csv\")\n",
    "exp1_filtered = exp1_data[(exp1_data['group'] == 'control') & \n",
    "                         (exp1_data['roi'].isin(['LO', 'pIPS'])) &\n",
    "                         (exp1_data['hemi'].isin(['left', 'right']))]\n",
    "\n",
    "# Calculate summary statistics for exp1\n",
    "exp1_summary = exp1_filtered.groupby(['hemi', 'roi', 'cond'])['mean_act'].agg(['mean', 'std']).reset_index()\n",
    "exp1_summary['experiment'] = 'Object Processing'\n",
    "\n",
    "# Load and process experiment 2 data\n",
    "exp2_data = pd.read_csv(\"results/tools/selectivity/selectivity_summarytoolloc.csv\")\n",
    "exp2_filtered = exp2_data[exp2_data['sub'].str.contains('spaceloc') & \n",
    "                         exp2_data['roi'].isin(['PFS', 'aIPS']) &\n",
    "                         exp2_data['hemi'].isin(['left', 'right'])]\n",
    "\n",
    "# Calculate summary statistics for exp2\n",
    "exp2_summary = exp2_filtered.groupby(['hemi', 'roi', 'cond'])['mean_act'].agg(['mean', 'std']).reset_index()\n",
    "exp2_summary['experiment'] = 'Tool Processing'\n",
    "\n",
    "# Combine datasets\n",
    "# Create Region_order categorical variable for proper ordering\n",
    "combined_summary['Region_order'] = pd.Categorical(\n",
    "    combined_summary['roi'],\n",
    "    categories=['LO', 'PFS', 'aIPS', 'pIPS'],\n",
    "    ordered=True\n",
    ")\n",
    "\n",
    "# Modify plot code\n",
    "plot = (ggplot(combined_summary, \n",
    "               aes(x='Region_order', y='mean', color='cond', shape='hemi'))\n",
    "        + geom_linerange(aes(ymin='mean-std', ymax='mean+std'), size=1)\n",
    "        + geom_point(size=4, fill='white', stroke=1.5, position=position_dodge(width=0.3))\n",
    "        + theme_classic()\n",
    "        + facet_wrap('~ experiment', scales='free_y')\n",
    "        + scale_color_manual(values={'object': '#31688E', 'scramble': '#440154',\n",
    "                                   'tool': '#31688E', 'nontool': '#440154'})\n",
    "        + theme(text=element_text(size=12),\n",
    "                axis_text_x=element_text(angle=30, hjust=1))\n",
    "        + labs(x='Region', y='Activation (Beta)'))\n",
    "\n",
    "print(plot)"
   ]
  },
  {
   "cell_type": "code",
   "execution_count": 1,
   "metadata": {},
   "outputs": [
    {
     "ename": "NameError",
     "evalue": "name 'fc_data' is not defined",
     "output_type": "error",
     "traceback": [
      "\u001b[0;31m---------------------------------------------------------------------------\u001b[0m",
      "\u001b[0;31mNameError\u001b[0m                                 Traceback (most recent call last)",
      "Cell \u001b[0;32mIn[1], line 53\u001b[0m\n\u001b[1;32m     50\u001b[0m     \u001b[38;5;28;01mreturn\u001b[39;00m fig\n\u001b[1;32m     52\u001b[0m \u001b[38;5;66;03m# Run plot\u001b[39;00m\n\u001b[0;32m---> 53\u001b[0m plot \u001b[38;5;241m=\u001b[39m create_fc_plot(\u001b[43mfc_data\u001b[49m)\n\u001b[1;32m     54\u001b[0m plt\u001b[38;5;241m.\u001b[39mshow()\n",
      "\u001b[0;31mNameError\u001b[0m: name 'fc_data' is not defined"
     ]
    }
   ],
   "source": [
    "# FC - just experiment 1\n",
    "\n",
    "import matplotlib.pyplot as plt\n",
    "import numpy as np\n",
    "\n",
    "# Prepare data\n",
    "def create_fc_plot(fc_data):\n",
    "    # Set style params\n",
    "    plt.style.use('classic')\n",
    "    fig, ax = plt.subplots(figsize=(10, 6))\n",
    "    \n",
    "    # Calculate means and SEs for each connection\n",
    "    connections = []\n",
    "    means = []\n",
    "    ses = []\n",
    "    for seed_hemi in ['left', 'right']:\n",
    "        for target_hemi in ['left', 'right']:\n",
    "            curr_data = fc_data[\n",
    "                (fc_data['seed_hemisphere'] == seed_hemi) &\n",
    "                (fc_data['target_hemisphere'] == target_hemi)\n",
    "            ]['mean_activation']\n",
    "            \n",
    "            connections.append(f\"{seed_hemi}\\npIPS\")\n",
    "            means.append(np.mean(curr_data))\n",
    "            ses.append(np.std(curr_data) / np.sqrt(len(curr_data)))\n",
    "    \n",
    "    # Plot\n",
    "    x = np.arange(len(connections))\n",
    "    \n",
    "    # Error bars\n",
    "    plt.errorbar(x, means, yerr=ses, fmt='none', color='#31688E', \n",
    "                capsize=5, capthick=1, elinewidth=2)\n",
    "    \n",
    "    # Points\n",
    "    plt.scatter(x, means, color='#31688E', s=100, \n",
    "               edgecolor='white', linewidth=1, zorder=3)\n",
    "    \n",
    "    # Styling\n",
    "    plt.axhline(y=0, color='black', linestyle='--', linewidth=1)\n",
    "    plt.xticks(x, connections, rotation=30, ha='right')\n",
    "    plt.ylabel('Functional Connectivity\\n(Fisher Z)', fontsize=14)\n",
    "    plt.xlabel('Connection', fontsize=14)\n",
    "    \n",
    "    # Theme\n",
    "    ax.spines['top'].set_visible(False)\n",
    "    ax.spines['right'].set_visible(False)\n",
    "    ax.tick_params(axis='both', which='major', labelsize=12)\n",
    "    \n",
    "    plt.tight_layout()\n",
    "    return fig\n",
    "\n",
    "# Run plot\n",
    "plot = create_fc_plot(fc_data)\n",
    "plt.show()"
   ]
  },
  {
   "cell_type": "code",
   "execution_count": null,
   "metadata": {},
   "outputs": [],
   "source": [
    "# PPI"
   ]
  },
  {
   "cell_type": "code",
   "execution_count": null,
   "metadata": {},
   "outputs": [],
   "source": [
    "# Subtraction"
   ]
  },
  {
   "cell_type": "code",
   "execution_count": null,
   "metadata": {},
   "outputs": [],
   "source": [
    "# GCA"
   ]
  },
  {
   "cell_type": "code",
   "execution_count": null,
   "metadata": {},
   "outputs": [],
   "source": [
    "# Network"
   ]
  }
 ],
 "metadata": {
  "kernelspec": {
   "display_name": "fmri",
   "language": "python",
   "name": "python3"
  },
  "language_info": {
   "codemirror_mode": {
    "name": "ipython",
    "version": 3
   },
   "file_extension": ".py",
   "mimetype": "text/x-python",
   "name": "python",
   "nbconvert_exporter": "python",
   "pygments_lexer": "ipython3",
   "version": "3.9.16"
  }
 },
 "nbformat": 4,
 "nbformat_minor": 2
}
