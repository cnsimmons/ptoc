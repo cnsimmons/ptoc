{
 "cells": [
  {
   "cell_type": "code",
   "execution_count": null,
   "metadata": {},
   "outputs": [],
   "source": [
    "import os\n",
    "import pandas as pd\n",
    "import numpy as np\n",
    "from nilearn import image, input_data\n",
    "from statsmodels.tsa.stattools import grangercausalitytests\n",
    "import sys\n",
    "import nibabel as nib\n",
    "\n",
    "# Import your parameters\n",
    "curr_dir = f'/user_data/csimmon2/git_repos/ptoc'\n",
    "sys.path.insert(0, curr_dir)\n",
    "import ptoc_params as params\n",
    "\n",
    "# Set up directories and parameters\n",
    "study = 'ptoc'\n",
    "study_dir = f\"/lab_data/behrmannlab/vlad/{study}\"\n",
    "results_dir = '/user_data/csimmon2/git_repos/ptoc/results'\n",
    "raw_dir = params.raw_dir\n",
    "sub_info = pd.read_csv(f'{curr_dir}/sub_info.csv')\n",
    "subs = ['sub-025']  # Update this list as needed\n",
    "rois = ['pIPS', 'LO']  # We'll analyze the relationship between these two ROIs\n",
    "hemispheres = ['left', 'right']\n",
    "run_num = 3\n",
    "runs = list(range(1, run_num + 1))\n",
    "run_combos = [[rn1, rn2] for rn1 in range(1, run_num + 1) for rn2 in range(rn1 + 1, run_num + 1)]"
   ]
  },
  {
   "cell_type": "code",
   "execution_count": null,
   "metadata": {},
   "outputs": [],
   "source": [
    "import pandas as pd\n",
    "\n",
    "# Replace with your actual file path\n",
    "results_file = \"/path/to/your/sub-025_gca_results.csv\"\n",
    "\n",
    "# Read the CSV file\n",
    "results = pd.read_csv(results_file)\n",
    "\n",
    "# Display the first few rows\n",
    "print(results.head())\n",
    "\n",
    "# Get some basic statistics\n",
    "print(results.describe())\n",
    "\n",
    "# If you want to see results for a specific condition or hemisphere\n",
    "print(results[results['condition'] == 'Object'])\n",
    "print(results[results['hemisphere'] == 'left'])"
   ]
  }
 ],
 "metadata": {
  "kernelspec": {
   "display_name": "fmri",
   "language": "python",
   "name": "python3"
  },
  "language_info": {
   "name": "python",
   "version": "3.9.16"
  }
 },
 "nbformat": 4,
 "nbformat_minor": 2
}
