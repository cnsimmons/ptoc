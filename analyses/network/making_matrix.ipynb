{
 "cells": [
  {
   "cell_type": "code",
   "execution_count": 2,
   "metadata": {},
   "outputs": [
    {
     "name": "stdout",
     "output_type": "stream",
     "text": [
      "\n",
      "Dataset created in /home/csimmon2/nilearn_data/schaefer_2018\n",
      "\n",
      "Downloading data from https://raw.githubusercontent.com/ThomasYeoLab/CBIG/v0.14.3-Update_Yeo2011_Schaefer2018_labelname/stable_projects/brain_parcellation/Schaefer2018_LocalGlobal/Parcellations/MNI/Schaefer2018_200Parcels_7Networks_order.txt ...\n",
      "Downloading data from https://raw.githubusercontent.com/ThomasYeoLab/CBIG/v0.14.3-Update_Yeo2011_Schaefer2018_labelname/stable_projects/brain_parcellation/Schaefer2018_LocalGlobal/Parcellations/MNI/Schaefer2018_200Parcels_7Networks_order_FSLMNI152_2mm.nii.gz ...\n"
     ]
    },
    {
     "name": "stderr",
     "output_type": "stream",
     "text": [
      " ...done. (0 seconds, 0 min)\n",
      " ...done. (0 seconds, 0 min)\n"
     ]
    }
   ],
   "source": [
    "schaefer_atlas = datasets.fetch_atlas_schaefer_2018(n_rois=200, resolution_mm=2)"
   ]
  },
  {
   "cell_type": "code",
   "execution_count": null,
   "metadata": {},
   "outputs": [],
   "source": [
    "import os\n",
    "import sys\n",
    "import pandas as pd\n",
    "import numpy as np\n",
    "import nibabel as nib\n",
    "from nilearn import image, input_data, datasets\n",
    "from nilearn.connectome import ConnectivityMeasure\n",
    "import logging\n",
    "\n",
    "# Set up logging\n",
    "logging.basicConfig(level=logging.INFO, format='%(asctime)s - %(levelname)s - %(message)s')\n",
    "\n",
    "# Import your parameters\n",
    "curr_dir = f'/user_data/csimmon2/git_repos/ptoc'\n",
    "sys.path.insert(0, curr_dir)\n",
    "import ptoc_params as params\n",
    "\n",
    "# Set up directories and parameters\n",
    "study = 'ptoc'\n",
    "study_dir = f\"/lab_data/behrmannlab/vlad/{study}\"\n",
    "raw_dir = params.raw_dir\n",
    "results_dir = '/user_data/csimmon2/git_repos/ptoc/results'\n",
    "\n",
    "# Load subject information\n",
    "sub_info = pd.read_csv(f'{curr_dir}/sub_info.csv')\n",
    "sub_info = sub_info[sub_info['group'] == 'control']\n",
    "subs = sub_info['sub'].tolist()\n",
    "\n",
    "run_num = 3\n",
    "runs = list(range(1, run_num + 1))\n",
    "\n",
    "# Define the number of ROIs for the Schaefer atlas\n",
    "n_rois = 200  # You can adjust this value as needed\n",
    "\n",
    "def apply_schaefer_atlas(subject_data, atlas_img, n_rois):\n",
    "    # Resample atlas to subject space\n",
    "    resampled_atlas = image.resample_to_img(atlas_img, subject_data, interpolation='nearest') # consider the interpolation method \n",
    "    \n",
    "    # Extract time series data\n",
    "    atlas_masker = input_data.NiftiLabelsMasker(labels_img=resampled_atlas, \n",
    "                                                standardize=True,\n",
    "                                                memory='nilearn_cache', \n",
    "                                                verbose=5)\n",
    "    time_series = atlas_masker.fit_transform(subject_data)\n",
    "    \n",
    "    return time_series\n",
    "\n",
    "def create_connectivity_matrix(ss):\n",
    "    logging.info(f\"Processing subject: {ss}\")\n",
    "    \n",
    "    # Load Schaefer atlas\n",
    "    atlas = datasets.fetch_atlas_schaefer_2018(n_rois=n_rois, yeo_networks=7, resolution_mm=2)\n",
    "    atlas_img = atlas.maps\n",
    "    \n",
    "    all_runs_data = []\n",
    "    \n",
    "    for rn in runs:\n",
    "        # Load subject data for this run\n",
    "        run_path = f'{raw_dir}/{ss}/ses-01/derivatives/fsl/loc/run-0{rn}/1stLevel.feat/filtered_func_data_reg.nii.gz'\n",
    "        if not os.path.exists(run_path):\n",
    "            logging.warning(f'Run data not found: {run_path}')\n",
    "            continue\n",
    "        \n",
    "        subject_img = nib.load(run_path)\n",
    "        \n",
    "        # Apply Schaefer atlas and extract time series\n",
    "        run_data = apply_schaefer_atlas(subject_img, atlas_img, n_rois)\n",
    "        all_runs_data.append(run_data)\n",
    "    \n",
    "    if not all_runs_data:\n",
    "        logging.warning(f'No valid run data found for subject {ss}')\n",
    "        return None\n",
    "    \n",
    "    # Concatenate runs\n",
    "    full_time_series = np.concatenate(all_runs_data, axis=0)\n",
    "    \n",
    "    # Compute connectivity matrix\n",
    "    correlation_measure = ConnectivityMeasure(kind='correlation')\n",
    "    connectivity_matrix = correlation_measure.fit_transform([full_time_series])[0]\n",
    "    \n",
    "    return connectivity_matrix\n",
    "\n",
    "def main():\n",
    "    for ss in subs:\n",
    "        connectivity_matrix = create_connectivity_matrix(ss)\n",
    "        if connectivity_matrix is not None:\n",
    "            # Save the connectivity matrix\n",
    "            output_dir = f'{results_dir}/connectivity_matrices'\n",
    "            os.makedirs(output_dir, exist_ok=True)\n",
    "            np.save(f'{output_dir}/{ss}_connectivity_matrix.npy', connectivity_matrix)\n",
    "            logging.info(f'Saved connectivity matrix for {ss}')\n",
    "\n",
    "if __name__ == \"__main__\":\n",
    "    main()"
   ]
  },
  {
   "cell_type": "code",
   "execution_count": null,
   "metadata": {},
   "outputs": [],
   "source": [
    "from nilearn import plotting\n",
    "\n",
    "def visualize_connectome(connectivity_matrix, atlas):\n",
    "    coords = plotting.find_parcellation_cut_coords(labels_img=atlas.maps)\n",
    "    plotting.plot_connectome(connectivity_matrix, coords, \n",
    "                             title='Functional Connectome')\n",
    "    plt.savefig(f'{output_dir}/{ss}_connectome.png')\n",
    "    plt.close()\n",
    "\n",
    "# Call this function after creating the connectivity matrix in your main function"
   ]
  },
  {
   "cell_type": "code",
   "execution_count": null,
   "metadata": {},
   "outputs": [],
   "source": [
    "from nilearn import plotting\n",
    "\n",
    "def visualize_atlas(atlas):\n",
    "    plotting.plot_roi(atlas.maps, title='Schaefer 200 ROIs')\n",
    "    plt.savefig(f'{output_dir}/schaefer_200_atlas.png')\n",
    "    plt.close()\n",
    "\n",
    "# Call this function after loading the atlas\n",
    "atlas = datasets.fetch_atlas_schaefer_2018(n_rois=200, yeo_networks=7, resolution_mm=2)\n",
    "visualize_atlas(atlas)"
   ]
  }
 ],
 "metadata": {
  "kernelspec": {
   "display_name": "fmri",
   "language": "python",
   "name": "python3"
  },
  "language_info": {
   "codemirror_mode": {
    "name": "ipython",
    "version": 3
   },
   "file_extension": ".py",
   "mimetype": "text/x-python",
   "name": "python",
   "nbconvert_exporter": "python",
   "pygments_lexer": "ipython3",
   "version": "3.9.16"
  }
 },
 "nbformat": 4,
 "nbformat_minor": 2
}
