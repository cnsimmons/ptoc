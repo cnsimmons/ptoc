{
 "cells": [
  {
   "cell_type": "code",
   "execution_count": 1,
   "metadata": {},
   "outputs": [],
   "source": [
    "# Basic data manipulation and visualisation libraries\n",
    "import numpy as np\n",
    "import matplotlib.pyplot as plt\n",
    "import seaborn as sns\n",
    "import pandas as pd\n",
    "import glob\n",
    "\n",
    "# Network Libraries\n",
    "import networkx as nx\n",
    "from nxviz import CircosPlot\n",
    "import community\n",
    "\n",
    "# Libraries used for Topological Data Analysis \n",
    "import gudhi\n",
    "\n",
    "# Possibility to stop warnings\n",
    "import warnings\n",
    "\n",
    "warnings.filterwarnings('ignore') "
   ]
  },
  {
   "cell_type": "code",
   "execution_count": 2,
   "metadata": {},
   "outputs": [
    {
     "name": "stdout",
     "output_type": "stream",
     "text": [
      "Found 19 connectivity matrices\n"
     ]
    }
   ],
   "source": [
    "# load data\n",
    "import numpy as np\n",
    "import glob\n",
    "import matplotlib.pyplot as plt\n",
    "import seaborn as sns\n",
    "import networkx as nx\n",
    "import os\n",
    "\n",
    "def load_matrices_simple(results_dir, n_rois=400):\n",
    "    \"\"\"\n",
    "    Simple function to load and average connectivity matrices\n",
    "    \n",
    "    Parameters:\n",
    "    results_dir (str): Directory containing connectivity matrices\n",
    "    n_rois (int): Number of ROIs (200 or 400)\n",
    "    \n",
    "    Returns:\n",
    "    tuple: (averaged_matrix, region_labels)\n",
    "    \"\"\"\n",
    "    # Load all individual matrices\n",
    "    matrix_files = glob.glob(f'{results_dir}/connectivity_matrices_{n_rois}/*_connectivity_matrix.npy')\n",
    "    #matrix_files = glob.glob(f'{results_dir}/connectivity_matrices/*_connectivity_matrix.npy')\n",
    "    \n",
    "    if not matrix_files:\n",
    "        raise FileNotFoundError(f\"No connectivity matrices found in {results_dir}/connectivity_matrices_{n_rois}/\")\n",
    "    \n",
    "    print(f\"Found {len(matrix_files)} connectivity matrices\")\n",
    "    \n",
    "    # Load and average matrices\n",
    "    matrices = [np.load(file) for file in matrix_files]\n",
    "    matrix = np.mean(matrices, axis=0)\n",
    "    \n",
    "    # Create simple region labels\n",
    "    region_labels = [f\"Region_{i+1}\" for i in range(n_rois)]\n",
    "    \n",
    "    return matrix, region_labels\n",
    "\n",
    "\n",
    "# Set up paths\n",
    "results_dir = '/user_data/csimmon2/git_repos/ptoc/results'\n",
    "\n",
    "# Create figures directory if it doesn't exist\n",
    "#os.makedirs(f'{results_dir}/figures', exist_ok=True)\n",
    "\n",
    "# Load 400 ROI data\n",
    "matrix, region_labels = load_matrices_simple(results_dir, n_rois=400)\n",
    "\n",
    "# Now you can proceed with the visualization functions"
   ]
  },
  {
   "cell_type": "code",
   "execution_count": null,
   "metadata": {},
   "outputs": [],
   "source": []
  }
 ],
 "metadata": {
  "kernelspec": {
   "display_name": "network",
   "language": "python",
   "name": "python3"
  },
  "language_info": {
   "codemirror_mode": {
    "name": "ipython",
    "version": 3
   },
   "file_extension": ".py",
   "mimetype": "text/x-python",
   "name": "python",
   "nbconvert_exporter": "python",
   "pygments_lexer": "ipython3",
   "version": "3.8.20"
  }
 },
 "nbformat": 4,
 "nbformat_minor": 2
}
